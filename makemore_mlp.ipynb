{
 "cells": [
  {
   "cell_type": "code",
   "execution_count": 118,
   "metadata": {},
   "outputs": [],
   "source": [
    "import torch\n",
    "import torch.nn.functional as F\n",
    "import matplotlib.pyplot as plt\n",
    "from itertools import chain"
   ]
  },
  {
   "cell_type": "code",
   "execution_count": 23,
   "metadata": {},
   "outputs": [
    {
     "data": {
      "text/plain": [
       "['...emma.', '...olivia.', '...ava.']"
      ]
     },
     "execution_count": 23,
     "metadata": {},
     "output_type": "execute_result"
    }
   ],
   "source": [
    "padding = 3\n",
    "with open('names.txt', 'r') as file:\n",
    "    names = file.readlines()\n",
    "names = ['.'*padding+name.strip()+'.' for name in names]\n",
    "names[:3]"
   ]
  },
  {
   "cell_type": "code",
   "execution_count": 35,
   "metadata": {},
   "outputs": [
    {
     "data": {
      "text/plain": [
       "27"
      ]
     },
     "execution_count": 35,
     "metadata": {},
     "output_type": "execute_result"
    }
   ],
   "source": [
    "unique_char = set(list(chain(*names)))\n",
    "length = len(unique_char)\n",
    "chtoi = {i:en for en, i in enumerate(sorted(list(unique_char)))}\n",
    "itoch = {v:k for k,v in chtoi.items()}\n",
    "length"
   ]
  },
  {
   "cell_type": "code",
   "execution_count": 111,
   "metadata": {},
   "outputs": [
    {
     "data": {
      "text/plain": [
       "(tensor([[ 0,  0,  0],\n",
       "         [ 0,  0,  5],\n",
       "         [ 0,  5, 13],\n",
       "         [ 5, 13, 13],\n",
       "         [13, 13,  1],\n",
       "         [ 0,  0,  0],\n",
       "         [ 0,  0, 15],\n",
       "         [ 0, 15, 12],\n",
       "         [15, 12,  9],\n",
       "         [12,  9, 22]]),\n",
       " tensor([ 5, 13, 13,  1,  0, 15, 12,  9, 22,  9]),\n",
       " torch.Size([228146, 3]),\n",
       " torch.Size([228146]))"
      ]
     },
     "execution_count": 111,
     "metadata": {},
     "output_type": "execute_result"
    }
   ],
   "source": [
    "Xs, Ys = [], []\n",
    "for word in names:\n",
    "    for c1, c2, c3, c4 in zip(word, word[1:], word[2:], word[3:]):\n",
    "        Xs.append([chtoi[c1],chtoi[c2],chtoi[c3]])\n",
    "        Ys.append(chtoi[c4])\n",
    "Xs = torch.tensor(Xs)\n",
    "Ys = torch.tensor(Ys)\n",
    "Xs[:10], Ys[:10], Xs.shape, Ys.shape "
   ]
  },
  {
   "cell_type": "code",
   "execution_count": 163,
   "metadata": {},
   "outputs": [
    {
     "name": "stdout",
     "output_type": "stream",
     "text": [
      "embed[Xs].shape=torch.Size([228146, 3, 2])\n",
      "W1.shape=torch.Size([6, 100]), b1.shape=torch.Size([100]), W2.shape=torch.Size([100, 27]), b2.shape=torch.Size([27])\n",
      "loss=10.912996292114258\n"
     ]
    },
    {
     "name": "stderr",
     "output_type": "stream",
     "text": [
      "/tmp/ipykernel_17131/81328525.py:20: UserWarning: To copy construct from a tensor, it is recommended to use sourceTensor.clone().detach() or sourceTensor.clone().detach().requires_grad_(True), rather than torch.tensor(sourceTensor).\n",
      "  loss = F.cross_entropy(out, torch.tensor(Ys[batch]))\n"
     ]
    },
    {
     "name": "stdout",
     "output_type": "stream",
     "text": [
      "loss=2.621100425720215\n",
      "loss=2.5659902095794678\n",
      "loss=2.9085750579833984\n",
      "loss=2.5764238834381104\n",
      "loss=2.588291645050049\n",
      "loss=2.317904472351074\n",
      "loss=2.070044994354248\n",
      "loss=2.8235394954681396\n",
      "loss=2.4984991550445557\n",
      "loss=2.927107334136963\n",
      "loss=2.3398032188415527\n",
      "loss=2.6222920417785645\n",
      "loss=2.563169002532959\n",
      "loss=2.355222225189209\n",
      "loss=2.348522663116455\n",
      "loss=2.5607635974884033\n",
      "loss=2.2678492069244385\n",
      "loss=2.3870880603790283\n",
      "loss=2.3517651557922363\n",
      "loss=2.809919834136963\n",
      "loss=2.5964958667755127\n",
      "loss=2.446852922439575\n",
      "loss=2.821650743484497\n",
      "loss=2.306657552719116\n",
      "loss=2.2986831665039062\n",
      "loss=2.0547492504119873\n",
      "loss=2.2112820148468018\n",
      "loss=2.223566770553589\n",
      "loss=2.2287909984588623\n",
      "loss=2.496208667755127\n",
      "loss=2.1335299015045166\n",
      "loss=2.865292549133301\n",
      "loss=2.6068801879882812\n",
      "loss=2.4316048622131348\n",
      "loss=2.48909592628479\n",
      "loss=2.8906090259552\n",
      "loss=2.5406980514526367\n",
      "loss=2.267906665802002\n",
      "loss=2.0957541465759277\n",
      "loss=2.3241379261016846\n",
      "loss=2.24615216255188\n",
      "loss=2.2558774948120117\n",
      "loss=2.4174306392669678\n",
      "loss=2.30835223197937\n",
      "loss=2.138958692550659\n",
      "loss=2.4072158336639404\n",
      "loss=2.55647611618042\n",
      "loss=2.127333641052246\n",
      "loss=2.667428731918335\n",
      "loss=1.9645602703094482\n",
      "loss=2.1095921993255615\n",
      "loss=2.386781692504883\n",
      "loss=2.407766103744507\n",
      "loss=2.6301827430725098\n",
      "loss=2.371150255203247\n",
      "loss=2.4455227851867676\n",
      "loss=2.337575674057007\n",
      "loss=2.569915533065796\n",
      "loss=2.0914998054504395\n",
      "loss=2.483539342880249\n",
      "loss=2.0845556259155273\n",
      "loss=2.3447506427764893\n",
      "loss=2.18684983253479\n",
      "loss=2.1174964904785156\n",
      "loss=2.051882743835449\n",
      "loss=2.3792331218719482\n",
      "loss=2.7615740299224854\n",
      "loss=2.4361326694488525\n",
      "loss=2.8741893768310547\n",
      "loss=2.3726463317871094\n",
      "loss=2.384941577911377\n",
      "loss=2.0860018730163574\n",
      "loss=2.636488199234009\n",
      "loss=2.631455421447754\n",
      "loss=2.5182061195373535\n",
      "loss=2.1018998622894287\n",
      "loss=2.3173022270202637\n",
      "loss=2.2880425453186035\n",
      "loss=2.3349480628967285\n",
      "loss=2.2280149459838867\n",
      "loss=2.339003562927246\n",
      "loss=2.3194169998168945\n",
      "loss=2.1437134742736816\n",
      "loss=2.3925914764404297\n",
      "loss=2.264951229095459\n",
      "loss=2.327254056930542\n",
      "loss=2.363154888153076\n",
      "loss=2.5117709636688232\n",
      "loss=2.2926862239837646\n",
      "loss=2.2716147899627686\n",
      "loss=2.6301982402801514\n",
      "loss=1.9536176919937134\n",
      "loss=2.3507580757141113\n",
      "loss=2.5691077709198\n",
      "loss=2.4032042026519775\n",
      "loss=2.62807035446167\n",
      "loss=2.665879249572754\n",
      "loss=2.2650599479675293\n",
      "loss=2.401627779006958\n",
      "loss=2.232637643814087\n"
     ]
    }
   ],
   "source": [
    "embedding_dim = 2\n",
    "batch_size = 32\n",
    "hid_dim = [padding*embedding_dim, 100]\n",
    "g = torch.Generator().manual_seed(12834)\n",
    "lr = .1\n",
    "embed = torch.rand((length, embedding_dim), requires_grad=True, generator=g)\n",
    "print(f'{embed[Xs].shape=}')\n",
    "\n",
    "W1 = torch.randn(hid_dim[0],hid_dim[1], requires_grad=True, generator=g)\n",
    "b1 = torch.randn(hid_dim[1], requires_grad=True, generator=g)\n",
    "W2 = torch.randn(hid_dim[1],length, requires_grad=True, generator=g)\n",
    "b2 = torch.randn(length, requires_grad=True, generator=g)\n",
    "parameters = [embed, W1, b1, W2, b2]\n",
    "print(f'{W1.shape=}, {b1.shape=}, {W2.shape=}, {b2.shape=}')\n",
    "\n",
    "for i in range(100000):\n",
    "    batch = torch.randint(0, Xs.shape[0], (batch_size,))\n",
    "    hidden = torch.tanh(embed[Xs[batch]].view(-1, hid_dim[0]) @ W1 + b1)\n",
    "    out = hidden @ W2 + b2\n",
    "    loss = F.cross_entropy(out, torch.tensor(Ys[batch])) \n",
    "    for p in parameters:\n",
    "        p.grad = None\n",
    "    loss.backward()\n",
    "    for p in parameters:\n",
    "        p.data -= lr * p.grad\n",
    "    if i % 1000 == 0:\n",
    "        print(f'loss={loss.item()}')\n",
    "    if  i == 100000:\n",
    "        lr *= .1\n",
    "    # if loss.item() < 2:\n",
    "    #     break\n",
    "print(f'loss={loss.item()}')"
   ]
  },
  {
   "cell_type": "code",
   "execution_count": 164,
   "metadata": {},
   "outputs": [
    {
     "data": {
      "text/plain": [
       "-0.262316"
      ]
     },
     "execution_count": 164,
     "metadata": {},
     "output_type": "execute_result"
    }
   ],
   "source": [
    "embeddings = embed.detach().numpy()\n",
    "embeddings.shape\n",
    "embeddings[0,0]"
   ]
  },
  {
   "cell_type": "code",
   "execution_count": 165,
   "metadata": {},
   "outputs": [
    {
     "data": {
      "image/png": "[encoded data removed]",
      "text/plain": [
       "<Figure size 800x800 with 1 Axes>"
      ]
     },
     "metadata": {},
     "output_type": "display_data"
    }
   ],
   "source": [
    "plt.figure(figsize=(8,8))\n",
    "plt.scatter(embeddings[:,0], embeddings[:,1], s=200)\n",
    "for i in range(length):\n",
    "    plt.text(embeddings[i,0], embeddings[i,1], itoch[i], ha='center', va='center', color='red')"
   ]
  },
  {
   "cell_type": "code",
   "execution_count": null,
   "metadata": {},
   "outputs": [],
   "source": []
  },
  {
   "cell_type": "code",
   "execution_count": null,
   "metadata": {},
   "outputs": [],
   "source": []
  }
 ],
 "metadata": {
  "kernelspec": {
   "display_name": "Python 3",
   "language": "python",
   "name": "python3"
  },
  "language_info": {
   "codemirror_mode": {
    "name": "ipython",
    "version": 3
   },
   "file_extension": ".py",
   "mimetype": "text/x-python",
   "name": "python",
   "nbconvert_exporter": "python",
   "pygments_lexer": "ipython3",
   "version": "3.8.10"
  },
  "orig_nbformat": 4
 },
 "nbformat": 4,
 "nbformat_minor": 2
}
