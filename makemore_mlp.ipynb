{
 "cells": [
  {
   "cell_type": "code",
   "execution_count": 87,
   "metadata": {},
   "outputs": [],
   "source": [
    "import torch\n",
    "import torch.nn.functional as F\n",
    "from itertools import chain"
   ]
  },
  {
   "cell_type": "code",
   "execution_count": 23,
   "metadata": {},
   "outputs": [
    {
     "data": {
      "text/plain": [
       "['...emma.', '...olivia.', '...ava.']"
      ]
     },
     "execution_count": 23,
     "metadata": {},
     "output_type": "execute_result"
    }
   ],
   "source": [
    "padding = 3\n",
    "with open('names.txt', 'r') as file:\n",
    "    names = file.readlines()\n",
    "names = ['.'*padding+name.strip()+'.' for name in names]\n",
    "names[:3]"
   ]
  },
  {
   "cell_type": "code",
   "execution_count": 35,
   "metadata": {},
   "outputs": [
    {
     "data": {
      "text/plain": [
       "27"
      ]
     },
     "execution_count": 35,
     "metadata": {},
     "output_type": "execute_result"
    }
   ],
   "source": [
    "unique_char = set(list(chain(*names)))\n",
    "length = len(unique_char)\n",
    "chtoi = {i:en for en, i in enumerate(sorted(list(unique_char)))}\n",
    "itoch = {v:k for k,v in chtoi.items()}\n",
    "length"
   ]
  },
  {
   "cell_type": "code",
   "execution_count": 44,
   "metadata": {},
   "outputs": [
    {
     "data": {
      "text/plain": [
       "([[0, 0, 0],\n",
       "  [0, 0, 5],\n",
       "  [0, 5, 13],\n",
       "  [5, 13, 13],\n",
       "  [13, 13, 1],\n",
       "  [0, 0, 0],\n",
       "  [0, 0, 15],\n",
       "  [0, 15, 12],\n",
       "  [15, 12, 9],\n",
       "  [12, 9, 22]],\n",
       " [5, 13, 13, 1, 0, 15, 12, 9, 22, 9])"
      ]
     },
     "execution_count": 44,
     "metadata": {},
     "output_type": "execute_result"
    }
   ],
   "source": [
    "Xs, Ys = [], []\n",
    "for word in names[:10]:\n",
    "    for c1, c2, c3, c4 in zip(word, word[1:], word[2:], word[3:]):\n",
    "        Xs.append([chtoi[c1],chtoi[c2],chtoi[c3]])\n",
    "        Ys.append(chtoi[c4])\n",
    "Xs[:10], Ys[:10]"
   ]
  },
  {
   "cell_type": "code",
   "execution_count": 99,
   "metadata": {},
   "outputs": [
    {
     "name": "stdout",
     "output_type": "stream",
     "text": [
      "embed[Xs].shape=torch.Size([67, 3, 2])\n",
      "W1.shape=torch.Size([6, 100]), b1.shape=torch.Size([100]), W2.shape=torch.Size([100, 27]), b2.shape=torch.Size([27])\n",
      "loss=0.5360665321350098\n"
     ]
    }
   ],
   "source": [
    "embedding_dim = 2\n",
    "hid_dim = [padding*embedding_dim, 100]\n",
    "\n",
    "lr = 1\n",
    "embed = torch.rand((length, embedding_dim))\n",
    "print(f'{embed[Xs].shape=}')\n",
    "\n",
    "W1 = torch.randn(hid_dim[0],hid_dim[1], requires_grad=True)\n",
    "b1 = torch.randn(hid_dim[1], requires_grad=True)\n",
    "W2 = torch.randn(hid_dim[1],length, requires_grad=True)\n",
    "b2 = torch.randn(length, requires_grad=True)\n",
    "parameters = [W1, b1, W2, b2]\n",
    "print(f'{W1.shape=}, {b1.shape=}, {W2.shape=}, {b2.shape=}')\n",
    "\n",
    "for i in range(1000):\n",
    "    hidden = torch.tanh(embed[Xs].view(-1, hid_dim[0]) @ W1 + b1)\n",
    "    out = hidden @ W2 + b2\n",
    "    loss = F.cross_entropy(out, torch.tensor(Ys)) \n",
    "    for p in parameters:\n",
    "        p.grad = None\n",
    "    loss.backward()\n",
    "    for p in parameters:\n",
    "        p.data -= lr * p.grad\n",
    "print(f'loss={loss.item()}')"
   ]
  }
 ],
 "metadata": {
  "kernelspec": {
   "display_name": "Python 3",
   "language": "python",
   "name": "python3"
  },
  "language_info": {
   "codemirror_mode": {
    "name": "ipython",
    "version": 3
   },
   "file_extension": ".py",
   "mimetype": "text/x-python",
   "name": "python",
   "nbconvert_exporter": "python",
   "pygments_lexer": "ipython3",
   "version": "3.8.10"
  },
  "orig_nbformat": 4
 },
 "nbformat": 4,
 "nbformat_minor": 2
}
