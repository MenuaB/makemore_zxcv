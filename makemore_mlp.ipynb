{
 "cells": [
  {
   "cell_type": "code",
   "execution_count": 166,
   "metadata": {},
   "outputs": [],
   "source": [
    "import torch\n",
    "import torch.nn.functional as F\n",
    "import matplotlib.pyplot as plt\n",
    "from itertools import chain\n",
    "import random"
   ]
  },
  {
   "cell_type": "code",
   "execution_count": 169,
   "metadata": {},
   "outputs": [
    {
     "data": {
      "text/plain": [
       "['...emma.', '...olivia.', '...ava.']"
      ]
     },
     "execution_count": 169,
     "metadata": {},
     "output_type": "execute_result"
    }
   ],
   "source": [
    "padding = 3\n",
    "with open('names.txt', 'r') as file:\n",
    "    names = file.readlines()\n",
    "names = ['.'*padding+name.strip()+'.' for name in names]\n",
    "names[:3]"
   ]
  },
  {
   "cell_type": "code",
   "execution_count": 35,
   "metadata": {},
   "outputs": [
    {
     "data": {
      "text/plain": [
       "27"
      ]
     },
     "execution_count": 35,
     "metadata": {},
     "output_type": "execute_result"
    }
   ],
   "source": [
    "unique_char = set(list(chain(*names)))\n",
    "length = len(unique_char)\n",
    "chtoi = {i:en for en, i in enumerate(sorted(list(unique_char)))}\n",
    "itoch = {v:k for k,v in chtoi.items()}\n",
    "length"
   ]
  },
  {
   "cell_type": "code",
   "execution_count": 197,
   "metadata": {},
   "outputs": [
    {
     "name": "stdout",
     "output_type": "stream",
     "text": [
      "torch.Size([182397, 3]) torch.Size([182397])\n",
      "torch.Size([22791, 3]) torch.Size([22791])\n",
      "torch.Size([22958, 3]) torch.Size([22958])\n"
     ]
    }
   ],
   "source": [
    "random.seed(42)\n",
    "random.shuffle(names)\n",
    "def build_dataset(names):\n",
    "    Xs, Ys = [], []\n",
    "    for word in names:\n",
    "        for c1, c2, c3, c4 in zip(word, word[1:], word[2:], word[3:]):\n",
    "            Xs.append([chtoi[c1],chtoi[c2],chtoi[c3]])\n",
    "            Ys.append(chtoi[c4])\n",
    "    Xs = torch.tensor(Xs)\n",
    "    Ys = torch.tensor(Ys)\n",
    "    print(Xs.shape, Ys.shape )\n",
    "    return Xs, Ys\n",
    "n1 = int(len(names)*.8)\n",
    "n2 = int(len(names)*.9)\n",
    "Xtra, Ytra = build_dataset(names[:n1])\n",
    "Xval, Yval = build_dataset(names[n1:n2])\n",
    "Xtes, Yes = build_dataset(names[n2:])"
   ]
  },
  {
   "cell_type": "code",
   "execution_count": 208,
   "metadata": {},
   "outputs": [
    {
     "name": "stdout",
     "output_type": "stream",
     "text": [
      "embed[Xtra].shape=torch.Size([182397, 3, 5])\n",
      "W1.shape=torch.Size([15, 500]), b1.shape=torch.Size([500]), W2.shape=torch.Size([500, 27]), b2.shape=torch.Size([27])\n",
      "loss=40.92203903198242\n"
     ]
    },
    {
     "name": "stderr",
     "output_type": "stream",
     "text": [
      "/tmp/ipykernel_17131/4260014006.py:20: UserWarning: To copy construct from a tensor, it is recommended to use sourceTensor.clone().detach() or sourceTensor.clone().detach().requires_grad_(True), rather than torch.tensor(sourceTensor).\n",
      "  loss = F.cross_entropy(out, torch.tensor(Ytra[batch]))\n"
     ]
    },
    {
     "name": "stdout",
     "output_type": "stream",
     "text": [
      "loss=10.565754890441895\n",
      "loss=9.90065860748291\n",
      "loss=7.065001010894775\n",
      "loss=8.354973793029785\n",
      "loss=6.642632961273193\n",
      "loss=10.23415756225586\n",
      "loss=7.384223461151123\n",
      "loss=3.598719358444214\n",
      "loss=2.7106974124908447\n",
      "loss=2.3838417530059814\n",
      "loss=2.521479368209839\n",
      "loss=2.514878749847412\n",
      "loss=2.4655609130859375\n",
      "loss=2.5829248428344727\n",
      "loss=2.4420928955078125\n",
      "loss=2.3697118759155273\n",
      "loss=2.641343593597412\n",
      "loss=2.4658443927764893\n",
      "loss=2.3612117767333984\n",
      "loss=2.4259750843048096\n",
      "loss=2.334925413131714\n",
      "loss=2.3222506046295166\n",
      "loss=2.3178319931030273\n",
      "loss=2.565744400024414\n",
      "loss=2.6435253620147705\n",
      "loss=2.6990294456481934\n",
      "loss=2.5055577754974365\n",
      "loss=2.1876280307769775\n",
      "loss=2.2961182594299316\n",
      "loss=2.298614263534546\n",
      "loss=2.3904800415039062\n",
      "loss=2.2482802867889404\n",
      "loss=2.263498067855835\n",
      "loss=2.5377073287963867\n",
      "loss=2.3704657554626465\n",
      "loss=2.2313389778137207\n",
      "loss=2.229545831680298\n",
      "loss=2.322115659713745\n",
      "loss=2.32208251953125\n",
      "loss=2.190845489501953\n",
      "loss=2.4615302085876465\n",
      "loss=2.610825300216675\n",
      "loss=2.2549474239349365\n",
      "loss=2.3368990421295166\n",
      "loss=2.2296807765960693\n",
      "loss=2.3805572986602783\n",
      "loss=2.4084715843200684\n",
      "loss=2.129146099090576\n",
      "loss=2.425541400909424\n",
      "loss=2.180974006652832\n",
      "loss=2.389004945755005\n",
      "loss=2.219630718231201\n",
      "loss=2.2455997467041016\n",
      "loss=2.217583179473877\n",
      "loss=2.3561830520629883\n",
      "loss=2.1331787109375\n",
      "loss=2.3357887268066406\n",
      "loss=2.301549196243286\n",
      "loss=2.5500640869140625\n",
      "loss=2.4555914402008057\n",
      "loss=2.1767616271972656\n",
      "loss=2.5404586791992188\n",
      "loss=2.4203131198883057\n",
      "loss=2.163245677947998\n",
      "loss=2.243189811706543\n",
      "loss=2.422976493835449\n",
      "loss=2.244452714920044\n",
      "loss=2.565824508666992\n",
      "loss=2.4530646800994873\n",
      "loss=2.535564661026001\n",
      "loss=2.2977263927459717\n",
      "loss=2.150329828262329\n",
      "loss=2.296027898788452\n",
      "loss=2.133462429046631\n",
      "loss=2.27431583404541\n",
      "loss=2.2759456634521484\n",
      "loss=2.1330854892730713\n",
      "loss=2.1600453853607178\n",
      "loss=2.211790084838867\n",
      "loss=2.2703778743743896\n",
      "loss=2.3935396671295166\n",
      "loss=2.1883673667907715\n",
      "loss=2.3435943126678467\n",
      "loss=2.1983752250671387\n",
      "loss=2.152529239654541\n",
      "loss=2.3410463333129883\n",
      "loss=2.284700870513916\n",
      "loss=2.376488208770752\n",
      "loss=2.209372043609619\n",
      "loss=2.1717166900634766\n",
      "loss=2.530421257019043\n",
      "loss=2.1830313205718994\n",
      "loss=2.3635294437408447\n",
      "loss=2.335500955581665\n",
      "loss=2.171887159347534\n",
      "loss=2.195479393005371\n",
      "loss=2.3676249980926514\n",
      "loss=1.9544172286987305\n",
      "loss=2.367180347442627\n",
      "loss=2.048429489135742\n",
      "loss=2.2225754261016846\n",
      "loss=1.9547466039657593\n",
      "loss=2.1577696800231934\n",
      "loss=2.046322822570801\n",
      "loss=2.1880698204040527\n",
      "loss=2.2697219848632812\n",
      "loss=1.998271107673645\n",
      "loss=2.1322267055511475\n",
      "loss=1.960709571838379\n",
      "loss=2.0090973377227783\n",
      "loss=2.00053071975708\n",
      "loss=2.1012213230133057\n",
      "loss=2.032519578933716\n",
      "loss=2.0238101482391357\n",
      "loss=2.0284125804901123\n",
      "loss=2.3273086547851562\n",
      "loss=2.011207103729248\n",
      "loss=2.134408712387085\n",
      "loss=2.172118663787842\n",
      "loss=2.205336332321167\n",
      "loss=2.287661075592041\n",
      "loss=2.163027048110962\n",
      "loss=2.1555655002593994\n",
      "loss=2.044877290725708\n",
      "loss=2.19739031791687\n",
      "loss=1.9026620388031006\n",
      "loss=1.9484610557556152\n",
      "loss=2.099477529525757\n",
      "loss=2.121635675430298\n",
      "loss=2.0183653831481934\n",
      "loss=1.877334475517273\n",
      "loss=1.9657775163650513\n",
      "loss=1.8332436084747314\n",
      "loss=1.799724817276001\n",
      "loss=1.9426943063735962\n",
      "loss=2.0906434059143066\n",
      "loss=1.9991761445999146\n",
      "loss=1.9983173608779907\n",
      "loss=2.1127257347106934\n",
      "loss=2.1702206134796143\n",
      "loss=2.001474142074585\n",
      "loss=2.159039258956909\n",
      "loss=2.009887456893921\n",
      "loss=2.136342763900757\n",
      "loss=2.120966911315918\n",
      "loss=1.9047645330429077\n",
      "loss=2.044032573699951\n",
      "loss=1.9790204763412476\n",
      "loss=1.95775306224823\n",
      "loss=1.96013343334198\n",
      "loss=1.9452104568481445\n",
      "loss=2.142627000808716\n",
      "loss=2.044100761413574\n",
      "loss=2.1622543334960938\n",
      "loss=2.0701448917388916\n",
      "loss=1.9393389225006104\n",
      "loss=1.925917387008667\n",
      "loss=2.1159563064575195\n",
      "loss=2.1402575969696045\n",
      "loss=1.9692533016204834\n",
      "loss=2.102565288543701\n",
      "loss=2.1666781902313232\n",
      "loss=2.0961484909057617\n",
      "loss=2.018190622329712\n",
      "loss=2.024434804916382\n",
      "loss=2.074251413345337\n",
      "loss=1.896124243736267\n",
      "loss=2.156933546066284\n",
      "loss=2.152432441711426\n",
      "loss=2.0154640674591064\n",
      "loss=1.998414397239685\n",
      "loss=2.218510866165161\n",
      "loss=2.3209986686706543\n",
      "loss=1.8800352811813354\n",
      "loss=2.1844570636749268\n",
      "loss=2.0661733150482178\n",
      "loss=1.7645500898361206\n",
      "loss=1.9893537759780884\n",
      "loss=2.1780483722686768\n",
      "loss=2.041008472442627\n",
      "loss=2.041940450668335\n",
      "loss=1.9849134683609009\n",
      "loss=1.8326116800308228\n",
      "loss=2.229647159576416\n",
      "loss=2.0988471508026123\n",
      "loss=1.9181032180786133\n",
      "loss=2.0678417682647705\n",
      "loss=2.05143404006958\n",
      "loss=2.096081018447876\n",
      "loss=2.1454665660858154\n",
      "loss=2.2635936737060547\n",
      "loss=1.9936624765396118\n",
      "loss=1.9938613176345825\n",
      "loss=2.0761020183563232\n",
      "loss=1.992885947227478\n",
      "loss=1.9868255853652954\n",
      "loss=2.112844944000244\n",
      "loss=2.0229947566986084\n",
      "loss=1.949737548828125\n",
      "loss=2.335118532180786\n"
     ]
    }
   ],
   "source": [
    "embedding_dim = 5\n",
    "batch_size = 128\n",
    "hid_dim = [padding*embedding_dim, 500]\n",
    "g = torch.Generator().manual_seed(2147483647)\n",
    "lr = .5\n",
    "embed = torch.rand((length, embedding_dim), requires_grad=True, generator=g)\n",
    "print(f'{embed[Xtra].shape=}')\n",
    "\n",
    "W1 = torch.randn(hid_dim[0],hid_dim[1], requires_grad=True, generator=g)\n",
    "b1 = torch.randn(hid_dim[1], requires_grad=True, generator=g)\n",
    "W2 = torch.randn(hid_dim[1],length, requires_grad=True, generator=g)\n",
    "b2 = torch.randn(length, requires_grad=True, generator=g)\n",
    "parameters = [embed, W1, b1, W2, b2]\n",
    "print(f'{W1.shape=}, {b1.shape=}, {W2.shape=}, {b2.shape=}')\n",
    "\n",
    "for i in range(200000):\n",
    "    batch = torch.randint(0, Xtra.shape[0], (batch_size,))\n",
    "    hidden = torch.tanh(embed[Xtra[batch]].view(-1, hid_dim[0]) @ W1 + b1)\n",
    "    out = hidden @ W2 + b2\n",
    "    loss = F.cross_entropy(out, torch.tensor(Ytra[batch])) \n",
    "    for p in parameters:\n",
    "        p.grad = None\n",
    "    loss.backward()\n",
    "    for p in parameters:\n",
    "        p.data -= lr * p.grad\n",
    "    if i % 1000 == 0:\n",
    "        print(f'loss={loss.item()}')\n",
    "    if  i == 100000:\n",
    "        lr *= .1\n",
    "    # if loss.item() < 2.1 and i > 500:\n",
    "    #     print(f'loss={loss.item()} iteration={i}')\n",
    "    #     break\n",
    "print(f'loss={loss.item()}')"
   ]
  },
  {
   "cell_type": "code",
   "execution_count": 209,
   "metadata": {},
   "outputs": [
    {
     "name": "stderr",
     "output_type": "stream",
     "text": [
      "/tmp/ipykernel_17131/322588635.py:3: UserWarning: To copy construct from a tensor, it is recommended to use sourceTensor.clone().detach() or sourceTensor.clone().detach().requires_grad_(True), rather than torch.tensor(sourceTensor).\n",
      "  loss = F.cross_entropy(out, torch.tensor(Yval))\n"
     ]
    },
    {
     "data": {
      "text/plain": [
       "tensor(2.1182, grad_fn=<NllLossBackward0>)"
      ]
     },
     "execution_count": 209,
     "metadata": {},
     "output_type": "execute_result"
    }
   ],
   "source": [
    "hidden = torch.tanh(embed[Xval].view(-1, hid_dim[0]) @ W1 + b1)\n",
    "out = hidden @ W2 + b2\n",
    "loss = F.cross_entropy(out, torch.tensor(Yval)) \n",
    "loss"
   ]
  },
  {
   "cell_type": "code",
   "execution_count": 202,
   "metadata": {},
   "outputs": [
    {
     "data": {
      "text/plain": [
       "-0.37755325"
      ]
     },
     "execution_count": 202,
     "metadata": {},
     "output_type": "execute_result"
    }
   ],
   "source": [
    "embeddings = embed.detach().numpy()\n",
    "embeddings.shape\n",
    "embeddings[0,0]"
   ]
  },
  {
   "cell_type": "code",
   "execution_count": 203,
   "metadata": {},
   "outputs": [
    {
     "data": {
      "image/png": "[encoded data removed]",
      "text/plain": [
       "<Figure size 800x800 with 1 Axes>"
      ]
     },
     "metadata": {},
     "output_type": "display_data"
    }
   ],
   "source": [
    "plt.figure(figsize=(8,8))\n",
    "plt.scatter(embeddings[:,0], embeddings[:,1], s=200)\n",
    "for i in range(length):\n",
    "    plt.text(embeddings[i,0], embeddings[i,1], itoch[i], ha='center', va='center', color='red')"
   ]
  },
  {
   "cell_type": "code",
   "execution_count": null,
   "metadata": {},
   "outputs": [],
   "source": []
  },
  {
   "cell_type": "code",
   "execution_count": null,
   "metadata": {},
   "outputs": [],
   "source": []
  }
 ],
 "metadata": {
  "kernelspec": {
   "display_name": "Python 3",
   "language": "python",
   "name": "python3"
  },
  "language_info": {
   "codemirror_mode": {
    "name": "ipython",
    "version": 3
   },
   "file_extension": ".py",
   "mimetype": "text/x-python",
   "name": "python",
   "nbconvert_exporter": "python",
   "pygments_lexer": "ipython3",
   "version": "3.8.10"
  },
  "orig_nbformat": 4
 },
 "nbformat": 4,
 "nbformat_minor": 2
}
