{
 "cells": [
  {
   "cell_type": "code",
   "execution_count": 210,
   "metadata": {},
   "outputs": [],
   "source": [
    "import torch\n",
    "import torch.nn.functional as F\n",
    "import matplotlib.pyplot as plt\n",
    "from itertools import chain\n",
    "import random"
   ]
  },
  {
   "cell_type": "code",
   "execution_count": 211,
   "metadata": {},
   "outputs": [
    {
     "data": {
      "text/plain": [
       "['...emma.', '...olivia.', '...ava.']"
      ]
     },
     "execution_count": 211,
     "metadata": {},
     "output_type": "execute_result"
    }
   ],
   "source": [
    "padding = 3\n",
    "with open('names.txt', 'r') as file:\n",
    "    names = file.readlines()\n",
    "names = ['.'*padding+name.strip()+'.' for name in names]\n",
    "names[:3]"
   ]
  },
  {
   "cell_type": "code",
   "execution_count": 212,
   "metadata": {},
   "outputs": [
    {
     "data": {
      "text/plain": [
       "27"
      ]
     },
     "execution_count": 212,
     "metadata": {},
     "output_type": "execute_result"
    }
   ],
   "source": [
    "unique_char = set(list(chain(*names)))\n",
    "length = len(unique_char)\n",
    "chtoi = {i:en for en, i in enumerate(sorted(list(unique_char)))}\n",
    "itoch = {v:k for k,v in chtoi.items()}\n",
    "length"
   ]
  },
  {
   "cell_type": "code",
   "execution_count": 213,
   "metadata": {},
   "outputs": [
    {
     "name": "stdout",
     "output_type": "stream",
     "text": [
      "torch.Size([182625, 3]) torch.Size([182625])\n",
      "torch.Size([22655, 3]) torch.Size([22655])\n",
      "torch.Size([22866, 3]) torch.Size([22866])\n"
     ]
    }
   ],
   "source": [
    "random.seed(42)\n",
    "random.shuffle(names)\n",
    "def build_dataset(names):\n",
    "    Xs, Ys = [], []\n",
    "    for word in names:\n",
    "        for c1, c2, c3, c4 in zip(word, word[1:], word[2:], word[3:]):\n",
    "            Xs.append([chtoi[c1],chtoi[c2],chtoi[c3]])\n",
    "            Ys.append(chtoi[c4])\n",
    "    Xs = torch.tensor(Xs)\n",
    "    Ys = torch.tensor(Ys)\n",
    "    print(Xs.shape, Ys.shape )\n",
    "    return Xs, Ys\n",
    "n1 = int(len(names)*.8)\n",
    "n2 = int(len(names)*.9)\n",
    "Xtra, Ytra = build_dataset(names[:n1])\n",
    "Xval, Yval = build_dataset(names[n1:n2])\n",
    "Xtes, Yes = build_dataset(names[n2:])"
   ]
  },
  {
   "cell_type": "code",
   "execution_count": 236,
   "metadata": {},
   "outputs": [
    {
     "name": "stdout",
     "output_type": "stream",
     "text": [
      "embed[Xtra].shape=torch.Size([182625, 3, 5])\n",
      "W1.shape=torch.Size([15, 100]), b1.shape=torch.Size([100]), W2.shape=torch.Size([100, 27]), b2.shape=torch.Size([27])\n",
      "loss=18.853958129882812\n"
     ]
    },
    {
     "name": "stderr",
     "output_type": "stream",
     "text": [
      "/tmp/ipykernel_17131/3777213684.py:21: UserWarning: To copy construct from a tensor, it is recommended to use sourceTensor.clone().detach() or sourceTensor.clone().detach().requires_grad_(True), rather than torch.tensor(sourceTensor).\n",
      "  loss = F.cross_entropy(out, torch.tensor(Ytra[batch]))\n"
     ]
    },
    {
     "name": "stdout",
     "output_type": "stream",
     "text": [
      "loss=2.9169137477874756\n",
      "loss=2.6290225982666016\n",
      "loss=2.52078914642334\n",
      "loss=2.492778778076172\n",
      "loss=2.7559969425201416\n",
      "loss=2.505089282989502\n",
      "loss=2.628782272338867\n",
      "loss=2.5692458152770996\n",
      "loss=2.6872382164001465\n",
      "loss=2.626154899597168\n",
      "loss=2.4470059871673584\n",
      "loss=2.5009701251983643\n",
      "loss=2.269005537033081\n",
      "loss=2.4711878299713135\n",
      "loss=2.479494333267212\n",
      "loss=2.357968807220459\n",
      "loss=2.5544445514678955\n",
      "loss=2.251105546951294\n",
      "loss=2.517714500427246\n",
      "loss=2.4097633361816406\n",
      "loss=2.4227662086486816\n",
      "loss=2.514840841293335\n",
      "loss=2.513216495513916\n",
      "loss=2.49706768989563\n",
      "loss=2.3418824672698975\n",
      "loss=2.34812068939209\n",
      "loss=2.35732364654541\n",
      "loss=2.3840808868408203\n",
      "loss=2.38004732131958\n",
      "loss=2.2459683418273926\n",
      "loss=2.3329145908355713\n",
      "loss=2.438859224319458\n",
      "loss=2.850315809249878\n",
      "loss=2.393937587738037\n",
      "loss=2.4123728275299072\n",
      "loss=2.442589282989502\n",
      "loss=2.35341739654541\n",
      "loss=2.4168763160705566\n",
      "loss=2.4756481647491455\n",
      "loss=2.4611353874206543\n",
      "loss=2.3162946701049805\n",
      "loss=2.05232572555542\n",
      "loss=2.3508973121643066\n",
      "loss=2.3404812812805176\n",
      "loss=2.5008552074432373\n",
      "loss=2.57015061378479\n",
      "loss=2.2472476959228516\n",
      "loss=2.436344861984253\n",
      "loss=2.413759708404541\n",
      "loss=2.4565680027008057\n",
      "loss=2.5831429958343506\n",
      "loss=2.4691312313079834\n",
      "loss=2.347330331802368\n",
      "loss=2.2213919162750244\n",
      "loss=2.2349815368652344\n",
      "loss=2.4796652793884277\n",
      "loss=2.4397120475769043\n",
      "loss=2.389021158218384\n",
      "loss=2.5045433044433594\n",
      "loss=2.2792985439300537\n",
      "loss=2.3937156200408936\n",
      "loss=2.4140772819519043\n",
      "loss=2.319941282272339\n",
      "loss=2.383899211883545\n",
      "loss=2.276531457901001\n",
      "loss=2.363605499267578\n",
      "loss=2.2494752407073975\n",
      "loss=2.303450107574463\n",
      "loss=2.0800962448120117\n",
      "loss=2.118180990219116\n",
      "loss=2.2673773765563965\n",
      "loss=2.338275909423828\n",
      "loss=2.4965121746063232\n",
      "loss=2.3434109687805176\n",
      "loss=2.4518117904663086\n",
      "loss=2.372560739517212\n",
      "loss=2.419341802597046\n",
      "loss=2.23268985748291\n",
      "loss=2.3313324451446533\n",
      "loss=2.4747567176818848\n",
      "loss=2.1005935668945312\n",
      "loss=2.31506609916687\n",
      "loss=2.201943874359131\n",
      "loss=2.2143375873565674\n",
      "loss=2.288127899169922\n",
      "loss=2.115727424621582\n",
      "loss=2.753255605697632\n",
      "loss=2.226853132247925\n",
      "loss=2.319967031478882\n",
      "loss=2.2482614517211914\n",
      "loss=2.259453296661377\n",
      "loss=2.1813271045684814\n",
      "loss=2.1277289390563965\n",
      "loss=2.2049472332000732\n",
      "loss=2.349925994873047\n",
      "loss=2.18682599067688\n",
      "loss=2.1829750537872314\n",
      "loss=2.1233301162719727\n",
      "loss=2.4123239517211914\n",
      "loss=2.0846478939056396\n",
      "loss=2.237699031829834\n",
      "loss=2.193700075149536\n",
      "loss=2.188182830810547\n",
      "loss=2.2639498710632324\n",
      "loss=2.209087610244751\n",
      "loss=2.1805419921875\n",
      "loss=2.0071322917938232\n",
      "loss=2.2021384239196777\n",
      "loss=2.0682291984558105\n",
      "loss=2.258174180984497\n",
      "loss=2.2069196701049805\n",
      "loss=2.397732973098755\n",
      "loss=2.1374611854553223\n",
      "loss=2.271834373474121\n",
      "loss=1.9925252199172974\n",
      "loss=2.11122989654541\n",
      "loss=2.046518087387085\n",
      "loss=2.281480312347412\n",
      "loss=1.920353889465332\n",
      "loss=1.94769287109375\n",
      "loss=2.2267565727233887\n",
      "loss=2.160674571990967\n",
      "loss=2.2038145065307617\n",
      "loss=2.170588970184326\n",
      "loss=2.2518112659454346\n",
      "loss=2.250555992126465\n",
      "loss=2.075453281402588\n",
      "loss=2.2007925510406494\n",
      "loss=2.1567275524139404\n",
      "loss=2.0691540241241455\n",
      "loss=2.165971040725708\n",
      "loss=1.9627584218978882\n",
      "loss=2.1594295501708984\n",
      "loss=2.216465950012207\n",
      "loss=2.270311117172241\n",
      "loss=2.217294454574585\n",
      "loss=2.2546966075897217\n",
      "loss=2.0333619117736816\n",
      "loss=2.245755910873413\n",
      "loss=2.2873523235321045\n",
      "loss=2.1547839641571045\n",
      "loss=2.143749713897705\n",
      "loss=2.0862576961517334\n",
      "loss=2.386662006378174\n",
      "loss=2.2076151371002197\n",
      "loss=2.2025656700134277\n",
      "loss=2.2205545902252197\n",
      "loss=2.223237991333008\n",
      "loss=2.2712650299072266\n",
      "loss=2.360593318939209\n",
      "loss=2.017951011657715\n",
      "loss=2.3661606311798096\n",
      "loss=2.1159470081329346\n",
      "loss=2.191490650177002\n",
      "loss=2.255643129348755\n",
      "loss=2.334298610687256\n",
      "loss=2.182274580001831\n",
      "loss=2.140970468521118\n",
      "loss=2.1063413619995117\n",
      "loss=2.057215929031372\n",
      "loss=2.4232335090637207\n",
      "loss=2.1703217029571533\n",
      "loss=2.113215208053589\n",
      "loss=2.2923967838287354\n",
      "loss=2.055492877960205\n",
      "loss=2.169865131378174\n",
      "loss=2.290642738342285\n",
      "loss=2.113147735595703\n",
      "loss=2.232595443725586\n",
      "loss=2.301236867904663\n",
      "loss=2.3006656169891357\n",
      "loss=2.3604438304901123\n",
      "loss=2.1362385749816895\n",
      "loss=2.0011537075042725\n",
      "loss=2.3709568977355957\n",
      "loss=2.2871241569519043\n",
      "loss=2.2045435905456543\n",
      "loss=2.5384397506713867\n",
      "loss=2.3924269676208496\n",
      "loss=2.064035177230835\n",
      "loss=2.1450183391571045\n",
      "loss=2.3633365631103516\n",
      "loss=2.001194477081299\n",
      "loss=2.17531418800354\n",
      "loss=2.2537412643432617\n",
      "loss=1.9690260887145996\n",
      "loss=2.1456100940704346\n",
      "loss=2.408447027206421\n",
      "loss=2.262934684753418\n",
      "loss=2.192150831222534\n",
      "loss=2.1599719524383545\n",
      "loss=2.0074050426483154\n",
      "loss=2.0936317443847656\n",
      "loss=1.998489499092102\n",
      "loss=2.0597708225250244\n",
      "loss=2.1753673553466797\n",
      "loss=2.402632713317871\n",
      "loss=2.2993998527526855\n",
      "loss=2.2848856449127197\n",
      "loss=2.2967872619628906\n"
     ]
    }
   ],
   "source": [
    "embedding_dim = 5\n",
    "batch_size = 128\n",
    "hidden_dim = 100\n",
    "hid_dim = [padding*embedding_dim, hidden_dim]\n",
    "g = torch.Generator().manual_seed(2147483647)\n",
    "lr = .2\n",
    "embed = torch.rand((length, embedding_dim), requires_grad=True, generator=g)\n",
    "print(f'{embed[Xtra].shape=}')\n",
    "\n",
    "W1 = torch.randn(hid_dim[0],hid_dim[1], requires_grad=True, generator=g)\n",
    "b1 = torch.randn(hid_dim[1], requires_grad=True, generator=g)\n",
    "W2 = torch.randn(hid_dim[1],length, requires_grad=True, generator=g)\n",
    "b2 = torch.randn(length, requires_grad=True, generator=g)\n",
    "parameters = [embed, W1, b1, W2, b2]\n",
    "print(f'{W1.shape=}, {b1.shape=}, {W2.shape=}, {b2.shape=}')\n",
    "\n",
    "for i in range(200000):\n",
    "    batch = torch.randint(0, Xtra.shape[0], (batch_size,))\n",
    "    hidden = torch.tanh(embed[Xtra[batch]].view(-1, hid_dim[0]) @ W1 + b1)\n",
    "    out = hidden @ W2 + b2\n",
    "    loss = F.cross_entropy(out, torch.tensor(Ytra[batch])) \n",
    "    for p in parameters:\n",
    "        p.grad = None\n",
    "    loss.backward()\n",
    "    for p in parameters:\n",
    "        p.data -= lr * p.grad\n",
    "    if i % 1000 == 0:\n",
    "        print(f'loss={loss.item()}')\n",
    "    if  i == 100000:\n",
    "        lr *= .1\n",
    "    # if loss.item() < 2.1 and i > 500:\n",
    "    #     print(f'loss={loss.item()} iteration={i}')\n",
    "    #     break\n",
    "print(f'loss={loss.item()}')"
   ]
  },
  {
   "cell_type": "code",
   "execution_count": 237,
   "metadata": {},
   "outputs": [
    {
     "name": "stderr",
     "output_type": "stream",
     "text": [
      "/tmp/ipykernel_17131/322588635.py:3: UserWarning: To copy construct from a tensor, it is recommended to use sourceTensor.clone().detach() or sourceTensor.clone().detach().requires_grad_(True), rather than torch.tensor(sourceTensor).\n",
      "  loss = F.cross_entropy(out, torch.tensor(Yval))\n"
     ]
    },
    {
     "data": {
      "text/plain": [
       "tensor(2.1942, grad_fn=<NllLossBackward0>)"
      ]
     },
     "execution_count": 237,
     "metadata": {},
     "output_type": "execute_result"
    }
   ],
   "source": [
    "hidden = torch.tanh(embed[Xval].view(-1, hid_dim[0]) @ W1 + b1)\n",
    "out = hidden @ W2 + b2\n",
    "loss = F.cross_entropy(out, torch.tensor(Yval)) \n",
    "loss"
   ]
  },
  {
   "cell_type": "code",
   "execution_count": 238,
   "metadata": {},
   "outputs": [
    {
     "data": {
      "text/plain": [
       "0.5982463"
      ]
     },
     "execution_count": 238,
     "metadata": {},
     "output_type": "execute_result"
    }
   ],
   "source": [
    "embeddings = embed.detach().numpy()\n",
    "embeddings.shape\n",
    "embeddings[0,0]"
   ]
  },
  {
   "cell_type": "code",
   "execution_count": 239,
   "metadata": {},
   "outputs": [
    {
     "data": {
      "image/png": "[encoded data removed]",
      "text/plain": [
       "<Figure size 800x800 with 1 Axes>"
      ]
     },
     "metadata": {},
     "output_type": "display_data"
    }
   ],
   "source": [
    "plt.figure(figsize=(8,8))\n",
    "plt.scatter(embeddings[:,0], embeddings[:,1], s=200)\n",
    "for i in range(length):\n",
    "    plt.text(embeddings[i,0], embeddings[i,1], itoch[i], ha='center', va='center', color='red')"
   ]
  },
  {
   "cell_type": "code",
   "execution_count": 240,
   "metadata": {},
   "outputs": [
    {
     "data": {
      "text/plain": [
       "['pry',\n",
       " 'jeon',\n",
       " 'irah',\n",
       " 'adum',\n",
       " 'naiyah',\n",
       " 'mud',\n",
       " 'karysattilisigf',\n",
       " 'eyper',\n",
       " 'ova',\n",
       " 'sarioman',\n",
       " 'olsiaru',\n",
       " 'macky',\n",
       " 'ger',\n",
       " 'milah',\n",
       " 'brace',\n",
       " 'roan',\n",
       " 'naeksyogh',\n",
       " 'abalynn',\n",
       " 'jadilynn',\n",
       " 'dren']"
      ]
     },
     "execution_count": 240,
     "metadata": {},
     "output_type": "execute_result"
    }
   ],
   "source": [
    "g = torch.Generator().manual_seed(2147483647 + 10)\n",
    "@torch.no_grad()\n",
    "def inference(n=10):\n",
    "    new_names = []\n",
    "    for i in range(n):\n",
    "        name = ''\n",
    "        sample = [0]*3\n",
    "        while True:\n",
    "            hidden = torch.tanh(embed[sample].view(-1, hid_dim[0]) @ W1 + b1)\n",
    "            out = hidden @ W2 + b2 \n",
    "            probs = F.softmax(out, dim=1)\n",
    "            draw = torch.multinomial(probs, num_samples=1, replacement=True, generator=g).item()\n",
    "            if draw == 0:\n",
    "                break\n",
    "            sample.pop(0)\n",
    "            sample.append(draw)\n",
    "            name += itoch[draw]\n",
    "        new_names.append(name)\n",
    "    return new_names\n",
    "new_names = inference(20)\n",
    "new_names"
   ]
  },
  {
   "cell_type": "code",
   "execution_count": null,
   "metadata": {},
   "outputs": [],
   "source": []
  }
 ],
 "metadata": {
  "kernelspec": {
   "display_name": "Python 3",
   "language": "python",
   "name": "python3"
  },
  "language_info": {
   "codemirror_mode": {
    "name": "ipython",
    "version": 3
   },
   "file_extension": ".py",
   "mimetype": "text/x-python",
   "name": "python",
   "nbconvert_exporter": "python",
   "pygments_lexer": "ipython3",
   "version": "3.8.10"
  },
  "orig_nbformat": 4
 },
 "nbformat": 4,
 "nbformat_minor": 2
}
